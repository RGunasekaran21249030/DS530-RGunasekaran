{
 "cells": [
  {
   "cell_type": "code",
   "execution_count": 39,
   "metadata": {},
   "outputs": [
    {
     "name": "stdout",
     "output_type": "stream",
     "text": [
      "Hello World! I wonder why that is always the default coding text to start with\n"
     ]
    }
   ],
   "source": [
    "# File :    RGunasekaran_DSC530_Week2_1.ipynb\n",
    "# Name :    Ragunath Gunasekaran\n",
    "# Date :    09/07/2020\n",
    "# Course :  DSC-530 - Data Exploration and Analysis\n",
    "# Assignment :\n",
    "#           Display the text “Hello World! I wonder why that is always the default coding text to start with”\n",
    "#           Add two numbers together\n",
    "#           Subtract a number from another number\n",
    "#           Multiply two numbers\n",
    "#           Divide between two numbers\n",
    "#           Concatenate two strings together (any words)\n",
    "#           Create a list of 4 items (can be strings, numbers, both)\n",
    "#           Append an item to your list (again, can be a string, number)\n",
    "#           Create a tuple with 4 items (can be strings, numbers, both)\n",
    "\n",
    "\n",
    "\n",
    "# Display the text “Hello World! I wonder why that is always the default coding text to start with”\n",
    "print (\"Hello World! I wonder why that is always the default coding text to start with\")"
   ]
  },
  {
   "cell_type": "code",
   "execution_count": 40,
   "metadata": {},
   "outputs": [
    {
     "name": "stdin",
     "output_type": "stream",
     "text": [
      "Enter the first Number :  25\n",
      "Enter the second Number :  35\n",
      "Enter the Arithmetic Operation to be performed - 1.Add 2.Subtract 3.Multiply 4.Divide 5.modulo \n",
      " 3\n"
     ]
    },
    {
     "name": "stdout",
     "output_type": "stream",
     "text": [
      "The Value is:  875\n"
     ]
    }
   ],
   "source": [
    "# Add two numbers together\n",
    "# Subtract a number from another number\n",
    "# Multiply two numbers\n",
    "# Divide between two numbers\n",
    "\n",
    "# Get the input values\n",
    "input1 = int(input(\"Enter the first Number : \")) \n",
    "input2 = int(input(\"Enter the second Number : \")) \n",
    "\n",
    "# Select the Arthimetic Operation to be Performed\n",
    "operationentry = int(input(\"Enter the Arithmetic Operation to be performed - 1.Add 2.Subtract 3.Multiply 4.Divide 5.modulo \\n\"))\n",
    "\n",
    "if(operationentry==1):  #add\n",
    "    total=input1+input2\n",
    "elif(operationentry==2): #Subtract \n",
    "    total=input1-input2 \n",
    "elif(operationentry==3): #Multiply\n",
    "    total=input1*input2\n",
    "elif(operationentry==4): #Divide\n",
    "    total=input1/input2\n",
    "elif(operationentry==5): #modulo\n",
    "    total=input1%input2\n",
    "    \n",
    "print(\"The Value is: \", total) "
   ]
  },
  {
   "cell_type": "code",
   "execution_count": 41,
   "metadata": {},
   "outputs": [
    {
     "name": "stdin",
     "output_type": "stream",
     "text": [
      "Enter the First String :  Ragu\n",
      "Enter the Second String :  Nath\n"
     ]
    },
    {
     "name": "stdout",
     "output_type": "stream",
     "text": [
      "Concatenation of the string is RaguNath\n",
      "Concatenation of the string with space is Ragu Nath\n"
     ]
    }
   ],
   "source": [
    "# Concatenate two strings together (any words)\n",
    "\n",
    "# Get the input strings\n",
    "inputstr1 = str(input(\"Enter the First String : \")) \n",
    "inputstr2 = str (input(\"Enter the Second String : \")) \n",
    "\n",
    " \n",
    "# combine the strings by using join \n",
    "concatenagestring=(\"\".join([inputstr1, inputstr2])) \n",
    "print(\"Concatenation of the string is \" + concatenagestring) \n",
    "\n",
    "# combine the strings by using join with a separator Space(\" \") \n",
    "concatenagestring = \" \".join([inputstr1, inputstr2]) \n",
    "  \n",
    "print(\"Concatenation of the string with space is \" + concatenagestring)\n"
   ]
  },
  {
   "cell_type": "code",
   "execution_count": 42,
   "metadata": {},
   "outputs": [
    {
     "name": "stdout",
     "output_type": "stream",
     "text": [
      "['india', 'usa', 'uk', 'uae', 5, 6, 1, 'dubai']\n"
     ]
    }
   ],
   "source": [
    "country_list = ['india','usa','uk','uae',5,6] \n",
    "country_list.append(1)\n",
    "country_list.append('dubai')\n",
    "print(country_list)"
   ]
  },
  {
   "cell_type": "code",
   "execution_count": 43,
   "metadata": {},
   "outputs": [
    {
     "name": "stdout",
     "output_type": "stream",
     "text": [
      "(0, 1, 2, 3, 'python', 'r')\n",
      "(0, 1, 2, 3) ('python', 'r')\n"
     ]
    }
   ],
   "source": [
    "# Create a tuple with 4 items (can be strings, numbers, both)\n",
    "  \n",
    "tuple1 = (0, 1, 2, 3) \n",
    "tuple2 = ('python', 'r') \n",
    "  \n",
    "# Concatenating two tuples\n",
    "print(tuple1 + tuple2) \n",
    "\n",
    "# nesting of two tuples\n",
    "print(tuple1 ,tuple2)"
   ]
  },
  {
   "cell_type": "code",
   "execution_count": null,
   "metadata": {},
   "outputs": [],
   "source": []
  },
  {
   "cell_type": "code",
   "execution_count": null,
   "metadata": {},
   "outputs": [],
   "source": []
  }
 ],
 "metadata": {
  "kernelspec": {
   "display_name": "Python 3",
   "language": "python",
   "name": "python3"
  },
  "language_info": {
   "codemirror_mode": {
    "name": "ipython",
    "version": 3
   },
   "file_extension": ".py",
   "mimetype": "text/x-python",
   "name": "python",
   "nbconvert_exporter": "python",
   "pygments_lexer": "ipython3",
   "version": "3.8.3"
  }
 },
 "nbformat": 4,
 "nbformat_minor": 4
}
